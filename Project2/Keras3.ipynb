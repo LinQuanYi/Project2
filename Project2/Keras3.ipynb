{
 "cells": [
  {
   "cell_type": "code",
   "execution_count": 61,
   "metadata": {},
   "outputs": [
    {
     "name": "stdout",
     "output_type": "stream",
     "text": [
      "Extracting MNIST_data/train-images-idx3-ubyte.gz\n",
      "Extracting MNIST_data/train-labels-idx1-ubyte.gz\n",
      "Extracting MNIST_data/t10k-images-idx3-ubyte.gz\n",
      "Extracting MNIST_data/t10k-labels-idx1-ubyte.gz\n"
     ]
    }
   ],
   "source": [
    "import pickle\n",
    "import numpy as np\n",
    "from tensorflow.tutorials.mnist import input_data\n",
    "\n",
    "mnist = input_data.read_data_sets(\"MNIST_data/\", reshape=False)\n",
    "X_train, y_train           = mnist.train.images, mnist.train.labels\n",
    "X_validation, y_validation = mnist.validation.images, mnist.validation.labels\n",
    "X_test, y_test             = mnist.test.images, mnist.test.labels"
   ]
  },
  {
   "cell_type": "code",
   "execution_count": 62,
   "metadata": {},
   "outputs": [
    {
     "name": "stdout",
     "output_type": "stream",
     "text": [
      "Updated Image Shape: (32, 32, 1)\n"
     ]
    }
   ],
   "source": [
    "import numpy as np\n",
    "\n",
    "# Pad images with 0s\n",
    "X_train      = np.pad(X_train, ((0,0),(2,2),(2,2),(0,0)), 'constant')\n",
    "X_validation = np.pad(X_validation, ((0,0),(2,2),(2,2),(0,0)), 'constant')\n",
    "X_test       = np.pad(X_test, ((0,0),(2,2),(2,2),(0,0)), 'constant')\n",
    "    \n",
    "print(\"Updated Image Shape: {}\".format(X_train[0].shape))"
   ]
  },
  {
   "cell_type": "code",
   "execution_count": 63,
   "metadata": {},
   "outputs": [],
   "source": [
    "from sklearn.utils import shuffle\n",
    "\n",
    "X_train, y_train = shuffle(X_train, y_train)"
   ]
  },
  {
   "cell_type": "code",
   "execution_count": 64,
   "metadata": {},
   "outputs": [],
   "source": [
    "# Setup Keras\n",
    "from keras.models import Sequential\n",
    "from keras.layers.core import Dense, Activation, Flatten\n",
    "from keras.layers.convolutional import Conv2D\n",
    "from keras.layers.pooling import MaxPooling2D"
   ]
  },
  {
   "cell_type": "code",
   "execution_count": 65,
   "metadata": {},
   "outputs": [],
   "source": [
    "model = Sequential()\n",
    "model.add(Conv2D(16, (3, 3), input_shape=(32, 32, 1)))\n",
    "model.add(MaxPooling2D((2, 2)))\n",
    "model.add(Activation('relu'))\n",
    "model.add(Conv2D(32, (3, 3), input_shape=(15, 15, 16)))\n",
    "model.add(MaxPooling2D((2, 2)))\n",
    "model.add(Activation('relu'))\n",
    "model.add(Flatten())\n",
    "model.add(Dense(84))\n",
    "model.add(Activation('relu'))\n",
    "model.add(Dense(10))\n",
    "model.add(Activation('softmax'))"
   ]
  },
  {
   "cell_type": "code",
   "execution_count": 66,
   "metadata": {},
   "outputs": [
    {
     "name": "stdout",
     "output_type": "stream",
     "text": [
      "Epoch 1/10\n",
      "1375/1375 [==============================] - 25s 18ms/step - loss: 0.4170 - accuracy: 0.8716 - val_loss: 0.0738 - val_accuracy: 0.9780\n",
      "Epoch 2/10\n",
      "1375/1375 [==============================] - 25s 18ms/step - loss: 0.0580 - accuracy: 0.9829 - val_loss: 0.0601 - val_accuracy: 0.9830\n",
      "Epoch 3/10\n",
      "1375/1375 [==============================] - 29s 21ms/step - loss: 0.0381 - accuracy: 0.9871 - val_loss: 0.0502 - val_accuracy: 0.9854\n",
      "Epoch 4/10\n",
      "1375/1375 [==============================] - 30s 22ms/step - loss: 0.0265 - accuracy: 0.9911 - val_loss: 0.0507 - val_accuracy: 0.9867\n",
      "Epoch 5/10\n",
      "1375/1375 [==============================] - 38s 27ms/step - loss: 0.0229 - accuracy: 0.9928 - val_loss: 0.0542 - val_accuracy: 0.9853A: 28s - loss: 0.0252 - accuracy: - ETA: 27s - loss: 0.0250 \n",
      "Epoch 6/10\n",
      "1375/1375 [==============================] - 25s 19ms/step - loss: 0.0170 - accuracy: 0.9941 - val_loss: 0.0514 - val_accuracy: 0.9862\n",
      "Epoch 7/10\n",
      "1375/1375 [==============================] - 24s 17ms/step - loss: 0.0123 - accuracy: 0.9960 - val_loss: 0.0600 - val_accuracy: 0.9841\n",
      "Epoch 8/10\n",
      "1375/1375 [==============================] - 25s 18ms/step - loss: 0.0109 - accuracy: 0.9963 - val_loss: 0.0449 - val_accuracy: 0.9895\n",
      "Epoch 9/10\n",
      "1375/1375 [==============================] - 25s 18ms/step - loss: 0.0074 - accuracy: 0.9975 - val_loss: 0.0572 - val_accuracy: 0.9865\n",
      "Epoch 10/10\n",
      "1375/1375 [==============================] - 23s 17ms/step - loss: 0.0061 - accuracy: 0.9980 - val_loss: 0.0529 - val_accuracy: 0.9877\n"
     ]
    }
   ],
   "source": [
    "# preprocess data\n",
    "\n",
    "from sklearn.preprocessing import LabelBinarizer\n",
    "label_binarizer = LabelBinarizer()\n",
    "y_one_hot = label_binarizer.fit_transform(y_train)\n",
    "\n",
    "model.compile('adam', 'categorical_crossentropy', ['accuracy'])\n",
    "history = model.fit(X_train, y_one_hot, epochs=10, validation_split=0.2)"
   ]
  },
  {
   "cell_type": "code",
   "execution_count": 67,
   "metadata": {},
   "outputs": [
    {
     "name": "stdout",
     "output_type": "stream",
     "text": [
      "313/313 [==============================] - 2s 6ms/step - loss: 0.0363 - accuracy: 0.9900\n",
      "Test loss: 0.03633911535143852\n",
      "Accuracy: 0.9900000095367432\n"
     ]
    }
   ],
   "source": [
    "# Evaluate the Model\n",
    "label_binarizer = LabelBinarizer()\n",
    "y_one_hot_test = label_binarizer.fit_transform(y_test)\n",
    "loss, accuracy = model.evaluate(X_test, y_one_hot_test)\n",
    "print('Test loss:', loss)\n",
    "print('Accuracy:', accuracy)\n",
    "\n",
    "# 保存\n",
    "model.save('mnistmodel.h5')"
   ]
  },
  {
   "cell_type": "code",
   "execution_count": null,
   "metadata": {},
   "outputs": [],
   "source": []
  }
 ],
 "metadata": {
  "kernelspec": {
   "display_name": "Python 3",
   "language": "python",
   "name": "python3"
  },
  "language_info": {
   "codemirror_mode": {
    "name": "ipython",
    "version": 3
   },
   "file_extension": ".py",
   "mimetype": "text/x-python",
   "name": "python",
   "nbconvert_exporter": "python",
   "pygments_lexer": "ipython3",
   "version": "3.8.5"
  }
 },
 "nbformat": 4,
 "nbformat_minor": 2
}
