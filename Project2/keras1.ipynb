{
 "cells": [
  {
   "cell_type": "code",
   "execution_count": null,
   "metadata": {},
   "outputs": [],
   "source": [
    "import pickle\n",
    "import numpy as np\n",
    "from tensorflow.tutorials.mnist import input_data\n",
    "\n",
    "mnist = input_data.read_data_sets(\"MNIST_data/\", reshape=False)\n",
    "X_train, y_train           = mnist.train.images, mnist.train.labels\n",
    "X_validation, y_validation = mnist.validation.images, mnist.validation.labels\n",
    "X_test, y_test             = mnist.test.images, mnist.test.labels"
   ]
  },
  {
   "cell_type": "code",
   "execution_count": null,
   "metadata": {},
   "outputs": [],
   "source": [
    "import numpy as np\n",
    "\n",
    "# Pad images with 0s\n",
    "X_train      = np.pad(X_train, ((0,0),(2,2),(2,2),(0,0)), 'constant')\n",
    "X_validation = np.pad(X_validation, ((0,0),(2,2),(2,2),(0,0)), 'constant')\n",
    "X_test       = np.pad(X_test, ((0,0),(2,2),(2,2),(0,0)), 'constant')\n",
    "    \n",
    "print(\"Updated Image Shape: {}\".format(X_train[0].shape))"
   ]
  },
  {
   "cell_type": "code",
   "execution_count": null,
   "metadata": {},
   "outputs": [],
   "source": [
    "from sklearn.utils import shuffle\n",
    "\n",
    "X_train, y_train = shuffle(X_train, y_train)"
   ]
  },
  {
   "cell_type": "code",
   "execution_count": null,
   "metadata": {},
   "outputs": [],
   "source": [
    "# Setup Keras\n",
    "from keras.models import Sequential\n",
    "from keras.layers.core import Dense, Activation, Flatten\n",
    "from keras.layers.convolutional import Conv2D\n",
    "from keras.layers.pooling import MaxPooling2D"
   ]
  },
  {
   "cell_type": "code",
   "execution_count": 21,
   "metadata": {},
   "outputs": [],
   "source": [
    "model = Sequential()\n",
    "model.add(Conv2D(16, (3, 3), input_shape=(32, 32, 1)))\n",
    "model.add(MaxPooling2D((2, 2)))\n",
    "model.add(Activation('relu'))\n",
    "model.add(Conv2D(32, (3, 3), input_shape=(15, 15, 16)))\n",
    "model.add(MaxPooling2D((2, 2)))\n",
    "model.add(Activation('relu'))\n",
    "model.add(Flatten())\n",
    "model.add(Dense(512))\n",
    "model.add(Activation('relu'))\n",
    "model.add(Dense(10))\n",
    "model.add(Activation('softmax'))"
   ]
  },
  {
   "cell_type": "code",
   "execution_count": 22,
   "metadata": {},
   "outputs": [
    {
     "name": "stdout",
     "output_type": "stream",
     "text": [
      "Epoch 1/10\n",
      "1375/1375 [==============================] - 34s 24ms/step - loss: 0.3369 - accuracy: 0.8962 - val_loss: 0.0582 - val_accuracy: 0.9821\n",
      "Epoch 2/10\n",
      "1375/1375 [==============================] - 32s 23ms/step - loss: 0.0447 - accuracy: 0.9855 - val_loss: 0.0440 - val_accuracy: 0.9860\n",
      "Epoch 3/10\n",
      "1375/1375 [==============================] - 32s 23ms/step - loss: 0.0303 - accuracy: 0.9904 - val_loss: 0.0322 - val_accuracy: 0.9893\n",
      "Epoch 4/10\n",
      "1375/1375 [==============================] - 31s 23ms/step - loss: 0.0211 - accuracy: 0.9927 - val_loss: 0.0359 - val_accuracy: 0.9894\n",
      "Epoch 5/10\n",
      "1375/1375 [==============================] - 31s 23ms/step - loss: 0.0153 - accuracy: 0.9955 - val_loss: 0.0296 - val_accuracy: 0.9911\n",
      "Epoch 6/10\n",
      "1375/1375 [==============================] - 32s 23ms/step - loss: 0.0124 - accuracy: 0.9961 - val_loss: 0.0381 - val_accuracy: 0.9885\n",
      "Epoch 7/10\n",
      "1375/1375 [==============================] - 32s 23ms/step - loss: 0.0096 - accuracy: 0.9966 - val_loss: 0.0440 - val_accuracy: 0.9891\n",
      "Epoch 8/10\n",
      "1375/1375 [==============================] - 35s 26ms/step - loss: 0.0093 - accuracy: 0.9969 - val_loss: 0.0427 - val_accuracy: 0.9889\n",
      "Epoch 9/10\n",
      "1375/1375 [==============================] - 44s 32ms/step - loss: 0.0066 - accuracy: 0.9976 - val_loss: 0.0436 - val_accuracy: 0.9900\n",
      "Epoch 10/10\n",
      "1375/1375 [==============================] - 35s 26ms/step - loss: 0.0061 - accuracy: 0.9980 - val_loss: 0.0369 - val_accuracy: 0.9899\n"
     ]
    }
   ],
   "source": [
    "# preprocess data\n",
    "\n",
    "from sklearn.preprocessing import LabelBinarizer\n",
    "label_binarizer = LabelBinarizer()\n",
    "y_one_hot = label_binarizer.fit_transform(y_train)\n",
    "\n",
    "model.compile('adam', 'categorical_crossentropy', ['accuracy'])\n",
    "history = model.fit(X_train, y_one_hot, epochs=10, validation_split=0.2)"
   ]
  },
  {
   "cell_type": "code",
   "execution_count": 23,
   "metadata": {},
   "outputs": [
    {
     "name": "stdout",
     "output_type": "stream",
     "text": [
      "313/313 [==============================] - 2s 7ms/step - loss: 0.0386 - accuracy: 0.9895\n",
      "Test loss: 0.03862735629081726\n",
      "Accuracy: 0.9894999861717224\n"
     ]
    }
   ],
   "source": [
    "# Evaluate the Model\n",
    "label_binarizer = LabelBinarizer()\n",
    "y_one_hot_test = label_binarizer.fit_transform(y_test)\n",
    "loss, accuracy = model.evaluate(X_test, y_one_hot_test)\n",
    "print('Test loss:', loss)\n",
    "print('Accuracy:', accuracy)\n",
    "\n",
    "# 保存\n",
    "model.save('mnistmodel.h5')"
   ]
  },
  {
   "cell_type": "code",
   "execution_count": null,
   "metadata": {},
   "outputs": [],
   "source": []
  }
 ],
 "metadata": {
  "kernelspec": {
   "display_name": "Python 3",
   "language": "python",
   "name": "python3"
  },
  "language_info": {
   "codemirror_mode": {
    "name": "ipython",
    "version": 3
   },
   "file_extension": ".py",
   "mimetype": "text/x-python",
   "name": "python",
   "nbconvert_exporter": "python",
   "pygments_lexer": "ipython3",
   "version": "3.8.5"
  }
 },
 "nbformat": 4,
 "nbformat_minor": 2
}
